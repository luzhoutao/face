{
 "cells": [
  {
   "cell_type": "markdown",
   "metadata": {},
   "source": [
    "This script is used to divide the dataset into test and enroll parts!\n",
    "The image is discarded if there are more than one face in the image.\n",
    "\n",
    "**Note**: this dataset is for testing the algorithm. (*also for training, if the algorithm required*)"
   ]
  },
  {
   "cell_type": "code",
   "execution_count": 2,
   "metadata": {
    "collapsed": true
   },
   "outputs": [],
   "source": [
    "# data file root\n",
    "data_root = 'vgg_face/'\n",
    "\n",
    "# server setting\n",
    "host = 'http://127.0.0.1/'\n",
    "person = 'perons/'\n",
    "faces = 'faces/'\n",
    "\n",
    "api_key = 'eb26fa639325f0731166703ebb23723f72396ea2'\n",
    "appID = '2884084932' # vgg_face app\n",
    "headers = {'Authorization': 'Token ' + api_key}"
   ]
  },
  {
   "cell_type": "code",
   "execution_count": 3,
   "metadata": {
    "collapsed": true
   },
   "outputs": [],
   "source": [
    "import requests, os\n",
    "from PIL import Image\n",
    "from pylab import *\n",
    "\n",
    "detect_url = 'http://172.29.33.44/commands/face_detection/'\n",
    "\n",
    "def remote_detect(face_filename):\n",
    "    files = {'image': open(face_filename, 'rb')}\n",
    "    data = {'appID': appID}\n",
    "    \n",
    "    response = requests.post(detect_url, files=files, data=data, headers=headers)\n",
    "    \n",
    "    if not str(response.status_code).startswith('2'):\n",
    "        print('Detect failed!<%s>'%(response.status_code))\n",
    "        return None\n",
    "    \n",
    "    faces = response.json()['faces']\n",
    "    \n",
    "    if len(faces) != 1:\n",
    "        print(\"Server return error!\")\n",
    "        return None\n",
    "    \n",
    "    if len(faces) == 1:\n",
    "        face = faces[0]\n",
    "        face_data = [(pixel[0], pixel[1], pixel[2]) for pixel in face['data']]\n",
    "    \n",
    "        face_image = Image.new(mode='RGB', size=face['size'])\n",
    "        face_image.putdata(face_data)\n",
    "    \n",
    "        return face_image"
   ]
  },
  {
   "cell_type": "code",
   "execution_count": 4,
   "metadata": {
    "collapsed": true
   },
   "outputs": [],
   "source": [
    "import dlib\n",
    "from PIL import Image\n",
    "import numpy as np\n",
    "\n",
    "def local_detect(face_filename):\n",
    "    detector = dlib.get_frontal_face_detector()\n",
    "    \n",
    "    try:\n",
    "        image = Image.open(face_filename)\n",
    "        cur_format = image.format\n",
    "        image = image.convert('RGB')\n",
    "        imarray = np.array(image)\n",
    "    \n",
    "        detections = detector(imarray)\n",
    "    \n",
    "        return len(detections) == 1, cur_format\n",
    "    except:\n",
    "        return False, None"
   ]
  },
  {
   "cell_type": "code",
   "execution_count": 35,
   "metadata": {},
   "outputs": [
    {
     "name": "stdout",
     "output_type": "stream",
     "text": [
      "(True, 'JPEG')\n"
     ]
    }
   ],
   "source": [
    "print(local_detect('data/Aaron_Eckhart/008a9b44d28e03ec64f26e580bb778e2febd7908.jpg'))"
   ]
  },
  {
   "cell_type": "code",
   "execution_count": 5,
   "metadata": {
    "scrolled": false
   },
   "outputs": [
    {
     "name": "stdout",
     "output_type": "stream",
     "text": [
      "6\n",
      "4\n",
      "8\n",
      "14\n",
      "13\n",
      "33\n",
      "31\n",
      "10\n",
      "17\n",
      "51\n"
     ]
    },
    {
     "name": "stderr",
     "output_type": "stream",
     "text": [
      "/home/xhoutao/anaconda3/lib/python3.5/site-packages/PIL/Image.py:874: UserWarning: Palette images with Transparency   expressed in bytes should be converted to RGBA images\n",
      "  'to RGBA images')\n"
     ]
    },
    {
     "name": "stdout",
     "output_type": "stream",
     "text": [
      "53\n",
      "24\n",
      "38\n",
      "9\n",
      "Error:  <class 'UnicodeEncodeError'>\n",
      "2\n",
      "1\n",
      "45\n",
      "7\n",
      "47\n",
      "22\n",
      "49\n",
      "42\n",
      "Discard: 6888; enroll: 10204; test: 440\n"
     ]
    }
   ],
   "source": [
    "import os, sys\n",
    "\n",
    "test_num = 20\n",
    "test_dest = 'compact_vgg_faces/test/'\n",
    "enroll_dest = 'compact_vgg_faces/enroll/'\n",
    "\n",
    "discard = 0\n",
    "test_total = 0\n",
    "enroll_total = 0\n",
    "\n",
    "restart = False\n",
    "\n",
    "for person in os.listdir(data_root):\n",
    "    \n",
    "    test_dir = os.path.join(test_dest, person)\n",
    "    enroll_dir = os.path.join(enroll_dest, person)\n",
    "    \n",
    "    if not restart:\n",
    "        restart = (person=='6')\n",
    "        \n",
    "    if not restart:\n",
    "        continue\n",
    "        \n",
    "    print(person)\n",
    "\n",
    "    if not os.path.exists(test_dir):\n",
    "        os.makedirs(test_dir)\n",
    "        \n",
    "    if not os.path.exists(enroll_dir):\n",
    "        os.makedirs(enroll_dir)\n",
    "    \n",
    "    count = 0\n",
    "    for facename in os.listdir(os.path.join(data_root,person)):\n",
    "        filepath = os.path.join(data_root, person, facename)\n",
    "        \n",
    "        valid, cur_format = local_detect(filepath)\n",
    "        if valid:\n",
    "            \n",
    "            try:\n",
    "                face = remote_detect(filepath)\n",
    "            except:\n",
    "                print('Error: ', sys.exc_info()[0])\n",
    "                continue\n",
    "        \n",
    "            if face == None:\n",
    "                continue\n",
    "                \n",
    "            if count < test_num:\n",
    "                face.save(os.path.join(test_dir, facename), format=cur_format)\n",
    "                count += 1\n",
    "                test_total += 1\n",
    "            else:\n",
    "                face.save(os.path.join(enroll_dir, facename), format=cur_format)\n",
    "                enroll_total += 1\n",
    "                \n",
    "        else:\n",
    "            discard += 1\n",
    "print(\"Discard: %d; enroll: %d; test: %d\"%(discard, enroll_total, test_total))"
   ]
  },
  {
   "cell_type": "code",
   "execution_count": null,
   "metadata": {
    "collapsed": true
   },
   "outputs": [],
   "source": []
  }
 ],
 "metadata": {
  "kernelspec": {
   "display_name": "Python 3",
   "language": "python",
   "name": "python3"
  },
  "language_info": {
   "codemirror_mode": {
    "name": "ipython",
    "version": 3
   },
   "file_extension": ".py",
   "mimetype": "text/x-python",
   "name": "python",
   "nbconvert_exporter": "python",
   "pygments_lexer": "ipython3",
   "version": "3.5.3"
  }
 },
 "nbformat": 4,
 "nbformat_minor": 2
}
