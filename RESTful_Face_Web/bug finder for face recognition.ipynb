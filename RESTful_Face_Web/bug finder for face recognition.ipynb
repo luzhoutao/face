{
 "cells": [
  {
   "cell_type": "code",
   "execution_count": 1,
   "metadata": {
    "collapsed": true
   },
   "outputs": [],
   "source": [
    "import requests, os\n",
    "from PIL import Image"
   ]
  },
  {
   "cell_type": "code",
   "execution_count": 58,
   "metadata": {
    "collapsed": true
   },
   "outputs": [],
   "source": [
    "# settings\n",
    "api_key = '3087cc43cc45d6ef0cf2dac617becda413b636a0'\n",
    "app_id = '2306941631'\n",
    "headers = {'Authorization': 'Token ' + api_key}"
   ]
  },
  {
   "cell_type": "code",
   "execution_count": 59,
   "metadata": {},
   "outputs": [
    {
     "name": "stdout",
     "output_type": "stream",
     "text": [
      "b'[{\"id\":1,\"url\":\"http://127.0.0.1:8000/apps/1/\",\"company\":\"http://127.0.0.1:8000/companies/2/\",\"app_name\":\"app1\",\"status\":\"live\",\"appID\":\"2306941631\",\"update_time\":\"2017-08-24T11:21:14.273680Z\"}]'\n"
     ]
    }
   ],
   "source": [
    "# check apps\n",
    "url = 'http://127.0.0.1:8000/apps/'\n",
    "response = requests.get(url, headers=headers)\n",
    "print(response.content)"
   ]
  },
  {
   "cell_type": "code",
   "execution_count": 60,
   "metadata": {},
   "outputs": [
    {
     "name": "stdout",
     "output_type": "stream",
     "text": [
      "2017-08-24T11:21:14.273680Z\n"
     ]
    }
   ],
   "source": [
    "# get app update time\n",
    "url = 'http://127.0.0.1:8000/apps/1/'\n",
    "response = requests.get(url, headers=headers)\n",
    "print(response.json()['update_time'])"
   ]
  },
  {
   "cell_type": "code",
   "execution_count": 61,
   "metadata": {},
   "outputs": [
    {
     "name": "stdout",
     "output_type": "stream",
     "text": [
      "b'{\"id\":2,\"url\":\"http://127.0.0.1:8000/persons/2/\",\"userID\":\"1897970844\",\"appID\":\"2306941631\",\"name\":\"person1\",\"faces\":[]}'\n"
     ]
    }
   ],
   "source": [
    "# crete user\n",
    "url = 'http://127.0.0.1:8000/persons/'\n",
    "data = {'name': 'person1'}\n",
    "response = requests.post(url, headers=headers, data=data)\n",
    "print(response.content)"
   ]
  },
  {
   "cell_type": "code",
   "execution_count": 70,
   "metadata": {},
   "outputs": [
    {
     "name": "stdout",
     "output_type": "stream",
     "text": [
      "{'id': 2, 'url': 'http://127.0.0.1:8000/persons/2/', 'userID': '1897970844', 'appID': '2306941631', 'name': 'person2', 'faces': []}\n"
     ]
    }
   ],
   "source": [
    "# recvise usernaem\n",
    "url = 'http://127.0.0.1:8000/persons/2/'\n",
    "data = {'name': 'person2'}\n",
    "response = requests.put(url, headers=headers, data=data)\n",
    "print(response.json())"
   ]
  },
  {
   "cell_type": "code",
   "execution_count": 71,
   "metadata": {
    "collapsed": true
   },
   "outputs": [],
   "source": [
    "user1_id = '1163711473'\n",
    "user2_id = '1897970844'\n",
    "test_facename = '1.jpg'"
   ]
  },
  {
   "cell_type": "code",
   "execution_count": 83,
   "metadata": {},
   "outputs": [
    {
     "name": "stdout",
     "output_type": "stream",
     "text": [
      "{'id': 22, 'url': 'http://127.0.0.1:8000/faces/22/', 'person': 'http://127.0.0.1:8000/persons/1/', 'created_time': '2017-08-24', 'modified_time': '2017-08-24', 'image': 'http://127.0.0.1:8000/media/faces/2306941631/u1163711473/170824/2_9nw6V86.jpg'}\n",
      "{'id': 23, 'url': 'http://127.0.0.1:8000/faces/23/', 'person': 'http://127.0.0.1:8000/persons/1/', 'created_time': '2017-08-24', 'modified_time': '2017-08-24', 'image': 'http://127.0.0.1:8000/media/faces/2306941631/u1163711473/170824/3_JmFZjLX.jpg'}\n",
      "{'id': 24, 'url': 'http://127.0.0.1:8000/faces/24/', 'person': 'http://127.0.0.1:8000/persons/1/', 'created_time': '2017-08-24', 'modified_time': '2017-08-24', 'image': 'http://127.0.0.1:8000/media/faces/2306941631/u1163711473/170824/4_mILCuDX.jpg'}\n",
      "{'id': 25, 'url': 'http://127.0.0.1:8000/faces/25/', 'person': 'http://127.0.0.1:8000/persons/1/', 'created_time': '2017-08-24', 'modified_time': '2017-08-24', 'image': 'http://127.0.0.1:8000/media/faces/2306941631/u1163711473/170824/5_QLT9vEm.jpg'}\n",
      "{'id': 26, 'url': 'http://127.0.0.1:8000/faces/26/', 'person': 'http://127.0.0.1:8000/persons/1/', 'created_time': '2017-08-24', 'modified_time': '2017-08-24', 'image': 'http://127.0.0.1:8000/media/faces/2306941631/u1163711473/170824/6_2aUago2.jpg'}\n",
      "{'id': 27, 'url': 'http://127.0.0.1:8000/faces/27/', 'person': 'http://127.0.0.1:8000/persons/1/', 'created_time': '2017-08-24', 'modified_time': '2017-08-24', 'image': 'http://127.0.0.1:8000/media/faces/2306941631/u1163711473/170824/7_rBWmdQE.jpg'}\n",
      "{'id': 28, 'url': 'http://127.0.0.1:8000/faces/28/', 'person': 'http://127.0.0.1:8000/persons/1/', 'created_time': '2017-08-24', 'modified_time': '2017-08-24', 'image': 'http://127.0.0.1:8000/media/faces/2306941631/u1163711473/170824/8_8IrTkuL.jpg'}\n"
     ]
    }
   ],
   "source": [
    "# enroll faces\n",
    "url = \"http://127.0.0.1:8000/faces/\"\n",
    "data = {'appID': app_id, 'userID': user1_id}\n",
    "for facename in os.listdir('faces/1'):\n",
    "    if facename == test_facename:\n",
    "        continue\n",
    "    response = requests.post(url, headers=headers, files={'image': open(os.path.join('faces/2', facename), 'rb')}, data=data)\n",
    "    print(response.json())"
   ]
  },
  {
   "cell_type": "code",
   "execution_count": 87,
   "metadata": {},
   "outputs": [
    {
     "name": "stdout",
     "output_type": "stream",
     "text": [
      "b'{\"userID\":[\"1163711473\"]}'\n"
     ]
    }
   ],
   "source": [
    "# recognition\n",
    "url = 'http://127.0.0.1:8000/commands/recognition/'\n",
    "data = {'appID': app_id, 'feature': 'hog', 'classifier': 'svm'}\n",
    "files = {'face': open(os.path.join('faces/1', test_facename), 'rb')}\n",
    "response = requests.post(url, data=data, headers=headers, files=files)\n",
    "print(response.content)"
   ]
  },
  {
   "cell_type": "code",
   "execution_count": null,
   "metadata": {
    "collapsed": true
   },
   "outputs": [],
   "source": []
  }
 ],
 "metadata": {
  "kernelspec": {
   "display_name": "Python 3",
   "language": "python",
   "name": "python3"
  },
  "language_info": {
   "codemirror_mode": {
    "name": "ipython",
    "version": 3
   },
   "file_extension": ".py",
   "mimetype": "text/x-python",
   "name": "python",
   "nbconvert_exporter": "python",
   "pygments_lexer": "ipython3",
   "version": "3.6.1"
  }
 },
 "nbformat": 4,
 "nbformat_minor": 2
}
