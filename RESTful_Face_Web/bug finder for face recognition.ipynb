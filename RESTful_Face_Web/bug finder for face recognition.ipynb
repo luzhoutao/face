{
 "cells": [
  {
   "cell_type": "code",
   "execution_count": 3,
   "metadata": {
    "collapsed": true
   },
   "outputs": [],
   "source": [
    "import requests, os\n",
    "from PIL import Image"
   ]
  },
  {
   "cell_type": "code",
   "execution_count": 7,
   "metadata": {
    "collapsed": true
   },
   "outputs": [],
   "source": [
    "# settings\n",
    "api_key = '8224e96c7c470305e18d96c9c9dddd236ff152b2'\n",
    "app_id = '1337118166'\n",
    "headers = {'Authorization': 'Token ' + api_key}"
   ]
  },
  {
   "cell_type": "code",
   "execution_count": 9,
   "metadata": {},
   "outputs": [
    {
     "name": "stdout",
     "output_type": "stream",
     "text": [
      "3923423697 closed\n",
      "2630631676 closed\n",
      "3981355051 closed\n",
      "0211918734 closed\n",
      "3675562389 closed\n",
      "1550419440 live\n",
      "0228089999 closed\n",
      "0295425186 closed\n",
      "4225977241 closed\n",
      "4178165796 live\n",
      "2281704755 live\n",
      "1940713718 live\n",
      "2352952285 live\n",
      "2598609816 live\n",
      "3338981911 live\n",
      "3349268618 live\n",
      "1795628641 live\n",
      "2036278348 live\n",
      "3659928379 live\n"
     ]
    },
    {
     "name": "stderr",
     "output_type": "stream",
     "text": [
      "/home/xhoutao/anaconda3/lib/python3.5/site-packages/requests/packages/urllib3/connectionpool.py:852: InsecureRequestWarning: Unverified HTTPS request is being made. Adding certificate verification is strongly advised. See: https://urllib3.readthedocs.io/en/latest/advanced-usage.html#ssl-warnings\n",
      "  InsecureRequestWarning)\n"
     ]
    }
   ],
   "source": [
    "# check apps\n",
    "url = 'https://172.29.34.77/apps/'\n",
    "response = requests.get(url, headers=headers, verify=False)\n",
    "for app in response.json():\n",
    "    print(app['appID'], app['status'])"
   ]
  },
  {
   "cell_type": "code",
   "execution_count": 115,
   "metadata": {},
   "outputs": [
    {
     "name": "stdout",
     "output_type": "stream",
     "text": [
      "2017-08-24T13:44:49Z\n"
     ]
    }
   ],
   "source": [
    "# get app update time\n",
    "url = 'http://172.29.34.77/apps/9/'\n",
    "response = requests.get(url, headers=headers)\n",
    "print(response.json()['update_time'])"
   ]
  },
  {
   "cell_type": "code",
   "execution_count": 116,
   "metadata": {},
   "outputs": [
    {
     "name": "stdout",
     "output_type": "stream",
     "text": [
      "b'{\"id\":1,\"url\":\"http://172.29.34.77/persons/1/\",\"userID\":\"1112111198\",\"appID\":\"1337118166\",\"name\":\"person1\",\"faces\":[]}'\n"
     ]
    }
   ],
   "source": [
    "# create user\n",
    "url = 'http://172.29.34.77/persons/'\n",
    "data = {'name': 'person1', 'appID': app_id}\n",
    "response = requests.post(url, headers=headers, data=data)\n",
    "print(response.content)"
   ]
  },
  {
   "cell_type": "code",
   "execution_count": 117,
   "metadata": {},
   "outputs": [
    {
     "name": "stdout",
     "output_type": "stream",
     "text": [
      "b'{\"id\":2,\"url\":\"http://172.29.34.77/persons/2/\",\"userID\":\"2706211877\",\"appID\":\"1337118166\",\"name\":\"person2\",\"faces\":[]}'\n"
     ]
    }
   ],
   "source": [
    "# create user\n",
    "url = 'http://172.29.34.77/persons/'\n",
    "data = {'name': 'person2', 'appID': app_id}\n",
    "response = requests.post(url, headers=headers, data=data)\n",
    "print(response.content)"
   ]
  },
  {
   "cell_type": "code",
   "execution_count": 118,
   "metadata": {
    "collapsed": true
   },
   "outputs": [],
   "source": [
    "user1_id = '1112111198'\n",
    "user2_id = '2706211877'\n",
    "test_facename = 'prob.jpg'"
   ]
  },
  {
   "cell_type": "code",
   "execution_count": 120,
   "metadata": {
    "scrolled": true
   },
   "outputs": [
    {
     "name": "stdout",
     "output_type": "stream",
     "text": [
      "{'person': 'http://172.29.34.77/persons/2/', 'url': 'http://172.29.34.77/faces/20/', 'id': 20, 'modified_time': '2017-08-24', 'image': 'http://172.29.34.77/media/faces/1337118166/u2706211877/170824/stock-photo-los-angeles-mar-norman-reedus-arrives-at_4DLpwsR.jpg', 'created_time': '2017-08-24'}\n",
      "{'person': 'http://172.29.34.77/persons/2/', 'url': 'http://172.29.34.77/faces/21/', 'id': 21, 'modified_time': '2017-08-24', 'image': 'http://172.29.34.77/media/faces/1337118166/u2706211877/170824/ReedusNorman_09261305_edited-1.jpg', 'created_time': '2017-08-24'}\n",
      "{'person': 'http://172.29.34.77/persons/2/', 'url': 'http://172.29.34.77/faces/22/', 'id': 22, 'modified_time': '2017-08-24', 'image': 'http://172.29.34.77/media/faces/1337118166/u2706211877/170824/968full-norman-reedus.jpg.3', 'created_time': '2017-08-24'}\n",
      "{'person': 'http://172.29.34.77/persons/2/', 'url': 'http://172.29.34.77/faces/23/', 'id': 23, 'modified_time': '2017-08-24', 'image': 'http://172.29.34.77/media/faces/1337118166/u2706211877/170824/11910467_gal.jpg', 'created_time': '2017-08-24'}\n",
      "{'person': 'http://172.29.34.77/persons/2/', 'url': 'http://172.29.34.77/faces/24/', 'id': 24, 'modified_time': '2017-08-24', 'image': 'http://172.29.34.77/media/faces/1337118166/u2706211877/170824/article-0-19AB13F700000578-336_634x797.jpg', 'created_time': '2017-08-24'}\n",
      "{'person': 'http://172.29.34.77/persons/2/', 'url': 'http://172.29.34.77/faces/25/', 'id': 25, 'modified_time': '2017-08-24', 'image': 'http://172.29.34.77/media/faces/1337118166/u2706211877/170824/h-NORMAN-REEDUS-432x243.jpg', 'created_time': '2017-08-24'}\n",
      "{'person': 'http://172.29.34.77/persons/2/', 'url': 'http://172.29.34.77/faces/26/', 'id': 26, 'modified_time': '2017-08-24', 'image': 'http://172.29.34.77/media/faces/1337118166/u2706211877/170824/tumblr_lr9z3f08Rf1qf0a00.jpg', 'created_time': '2017-08-24'}\n",
      "{'person': 'http://172.29.34.77/persons/2/', 'url': 'http://172.29.34.77/faces/27/', 'id': 27, 'modified_time': '2017-08-24', 'image': 'http://172.29.34.77/media/faces/1337118166/u2706211877/170824/norman_reedus_by_fantomitzaaa-d4eb7ly.jpg', 'created_time': '2017-08-24'}\n",
      "{'person': 'http://172.29.34.77/persons/2/', 'url': 'http://172.29.34.77/faces/28/', 'id': 28, 'modified_time': '2017-08-24', 'image': 'http://172.29.34.77/media/faces/1337118166/u2706211877/170824/Norman2BReedus2BSpike2BTV2BGuys2BChoice2B20142BArriv_iSrZTSX.jpg', 'created_time': '2017-08-24'}\n",
      "{'person': 'http://172.29.34.77/persons/2/', 'url': 'http://172.29.34.77/faces/29/', 'id': 29, 'modified_time': '2017-08-24', 'image': 'http://172.29.34.77/media/faces/1337118166/u2706211877/170824/-for-someone-special-norman-reedus-25410788-447-287.jpg', 'created_time': '2017-08-24'}\n",
      "{'person': 'http://172.29.34.77/persons/2/', 'url': 'http://172.29.34.77/faces/30/', 'id': 30, 'modified_time': '2017-08-24', 'image': 'http://172.29.34.77/media/faces/1337118166/u2706211877/170824/norman-reedus.gif', 'created_time': '2017-08-24'}\n",
      "{'person': 'http://172.29.34.77/persons/2/', 'url': 'http://172.29.34.77/faces/31/', 'id': 31, 'modified_time': '2017-08-24', 'image': 'http://172.29.34.77/media/faces/1337118166/u2706211877/170824/Norman2BReedus2BAMC2BBreaking2BBad2BSeason2B52BPremi_UL3xSpA.jpg', 'created_time': '2017-08-24'}\n",
      "{'person': 'http://172.29.34.77/persons/2/', 'url': 'http://172.29.34.77/faces/32/', 'id': 32, 'modified_time': '2017-08-24', 'image': 'http://172.29.34.77/media/faces/1337118166/u2706211877/170824/Norman2BReedus2BMoet2BChandon2BFabulous2BFete2BLiber_qt6a22o.jpg', 'created_time': '2017-08-24'}\n",
      "{'person': 'http://172.29.34.77/persons/2/', 'url': 'http://172.29.34.77/faces/33/', 'id': 33, 'modified_time': '2017-08-24', 'image': 'http://172.29.34.77/media/faces/1337118166/u2706211877/170824/stock-photo-norman-reedus-at-the-los-angeles-premier_MsmEnun.jpg', 'created_time': '2017-08-24'}\n",
      "{'person': 'http://172.29.34.77/persons/2/', 'url': 'http://172.29.34.77/faces/34/', 'id': 34, 'modified_time': '2017-08-24', 'image': 'http://172.29.34.77/media/faces/1337118166/u2706211877/170824/norman-reedus-166270l.jpg', 'created_time': '2017-08-24'}\n",
      "{'person': 'http://172.29.34.77/persons/2/', 'url': 'http://172.29.34.77/faces/35/', 'id': 35, 'modified_time': '2017-08-24', 'image': 'http://172.29.34.77/media/faces/1337118166/u2706211877/170824/Norman-Reedus.jpg.3', 'created_time': '2017-08-24'}\n",
      "{'person': 'http://172.29.34.77/persons/2/', 'url': 'http://172.29.34.77/faces/36/', 'id': 36, 'modified_time': '2017-08-24', 'image': 'http://172.29.34.77/media/faces/1337118166/u2706211877/170824/Norman-Reedus_240.jpg', 'created_time': '2017-08-24'}\n",
      "{'person': 'http://172.29.34.77/persons/2/', 'url': 'http://172.29.34.77/faces/37/', 'id': 37, 'modified_time': '2017-08-24', 'image': 'http://172.29.34.77/media/faces/1337118166/u2706211877/170824/Norman-Reedus-by-Mark-Abrahams-for-GQ-une.gif', 'created_time': '2017-08-24'}\n",
      "{'person': 'http://172.29.34.77/persons/2/', 'url': 'http://172.29.34.77/faces/38/', 'id': 38, 'modified_time': '2017-08-24', 'image': 'http://172.29.34.77/media/faces/1337118166/u2706211877/170824/1.jpg', 'created_time': '2017-08-24'}\n"
     ]
    }
   ],
   "source": [
    "# enroll faces\n",
    "url = \"http://172.29.34.77/faces/\"\n",
    "data = {'appID': app_id, 'userID': user2_id}\n",
    "for facename in os.listdir('data/2'):\n",
    "    if facename == test_facename:\n",
    "        continue\n",
    "    response = requests.post(url, headers=headers, files={'image': open(os.path.join('data/2', facename), 'rb')}, data=data)\n",
    "    print(response.json())"
   ]
  },
  {
   "cell_type": "code",
   "execution_count": 136,
   "metadata": {},
   "outputs": [
    {
     "name": "stdout",
     "output_type": "stream",
     "text": [
      "b'{\"userID\":[\"1112111198\"]}'\n"
     ]
    }
   ],
   "source": [
    "# recognition\n",
    "url = 'http://172.29.34.77/commands/recognition/'\n",
    "data = {'appID': app_id, 'feature': 'hog', 'classifier': 'svm'}\n",
    "files = {'face': open(os.path.join('data/1', test_facename), 'rb')}\n",
    "response = requests.post(url, data=data, headers=headers, files=files)\n",
    "print(response.content)"
   ]
  },
  {
   "cell_type": "code",
   "execution_count": null,
   "metadata": {
    "collapsed": true
   },
   "outputs": [],
   "source": []
  }
 ],
 "metadata": {
  "kernelspec": {
   "display_name": "Python 3",
   "language": "python",
   "name": "python3"
  },
  "language_info": {
   "codemirror_mode": {
    "name": "ipython",
    "version": 3
   },
   "file_extension": ".py",
   "mimetype": "text/x-python",
   "name": "python",
   "nbconvert_exporter": "python",
   "pygments_lexer": "ipython3",
   "version": "3.5.3"
  }
 },
 "nbformat": 4,
 "nbformat_minor": 2
}
